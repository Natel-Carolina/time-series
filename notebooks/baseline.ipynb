{
 "cells": [
  {
   "cell_type": "code",
   "execution_count": 1,
   "id": "660fcbda-4d8e-4d4e-b186-d901d50f860d",
   "metadata": {},
   "outputs": [],
   "source": [
    "%load_ext autoreload\n",
    "%autoreload 2"
   ]
  },
  {
   "cell_type": "code",
   "execution_count": 4,
   "id": "6a83e95d-402c-4284-b1b6-256d1350fd90",
   "metadata": {},
   "outputs": [],
   "source": [
    "from time_series.dataset.utils import get_energy_demand\n",
    "from time_series.dataset.time_series import TrainingDataSet\n",
    "from time_series.utils import evaluate_model\n",
    "\n",
    "train_df = get_energy_demand()\n",
    "tds = TrainingDataSet(train_df)"
   ]
  },
  {
   "cell_type": "code",
   "execution_count": 16,
   "id": "4c6818d4-1394-4e53-b129-9990c2c8d894",
   "metadata": {},
   "outputs": [],
   "source": [
    "from statsmodels.tsa.api import ExponentialSmoothing\n",
    "from joblib import Parallel, delayed\n",
    "\n",
    "\n",
    "def univariate_forecast(column):\n",
    "    fit1 = ExponentialSmoothing(\n",
    "        train_df[column].values[:split_point],\n",
    "        seasonal_periods=4,\n",
    "        trend=\"add\",\n",
    "        seasonal=\"add\",\n",
    "        use_boxcox=False,\n",
    "        initialization_method=\"estimated\",\n",
    "    ).fit()\n",
    "    return fit1.forecast(10)\n",
    "\n",
    "\n",
    "split_point = int(len(train_df) * tds.train_split)\n",
    "forecasts = Parallel(n_jobs=10)(\n",
    "    delayed(univariate_forecast)(column) for column in train_df.columns\n",
    ")"
   ]
  },
  {
   "cell_type": "code",
   "execution_count": 30,
   "id": "a7d8248d-52e1-4877-8421-3708f539b710",
   "metadata": {},
   "outputs": [
    {
     "data": {
      "text/plain": [
       "11.28"
      ]
     },
     "execution_count": 30,
     "metadata": {},
     "output_type": "execute_result"
    }
   ],
   "source": [
    "import numpy as np\n",
    "from sklearn.metrics import mean_squared_error\n",
    "\n",
    "actual = train_df.values[split_point:][:10, :]\n",
    "round(mean_squared_error(actual, np.transpose(np.array(forecasts))), 2)"
   ]
  },
  {
   "cell_type": "code",
   "execution_count": null,
   "id": "40b7b17c-e9b8-4431-84bd-fd1127f4d724",
   "metadata": {},
   "outputs": [],
   "source": []
  }
 ],
 "metadata": {
  "kernelspec": {
   "display_name": "Python 3",
   "language": "python",
   "name": "python3"
  },
  "language_info": {
   "codemirror_mode": {
    "name": "ipython",
    "version": 3
   },
   "file_extension": ".py",
   "mimetype": "text/x-python",
   "name": "python",
   "nbconvert_exporter": "python",
   "pygments_lexer": "ipython3",
   "version": "3.8.8"
  }
 },
 "nbformat": 4,
 "nbformat_minor": 5
}
